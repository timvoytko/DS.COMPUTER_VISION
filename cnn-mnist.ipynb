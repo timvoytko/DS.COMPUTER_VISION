{
 "cells": [
  {
   "cell_type": "code",
   "execution_count": 1,
   "metadata": {},
   "outputs": [],
   "source": [
    "# инициализация видеокарты в TF2\n",
    "\n",
    "import tensorflow as tf\n",
    "physical_devices = tf.config.experimental.list_physical_devices('GPU')\n",
    "tf.config.experimental.set_memory_growth(physical_devices[0], True)"
   ]
  },
  {
   "cell_type": "code",
   "execution_count": 2,
   "metadata": {},
   "outputs": [],
   "source": [
    "import warnings\n",
    "warnings.filterwarnings(\"ignore\")"
   ]
  },
  {
   "cell_type": "code",
   "execution_count": 3,
   "metadata": {},
   "outputs": [],
   "source": [
    "%matplotlib inline\n",
    "import cv2\n",
    "import keras\n",
    "import numpy as np\n",
    "import matplotlib.pyplot as plt"
   ]
  },
  {
   "cell_type": "code",
   "execution_count": 4,
   "metadata": {},
   "outputs": [],
   "source": [
    "train = np.loadtxt('data/train.csv', delimiter=',', skiprows=1)\n",
    "test = np.loadtxt('data/test.csv', delimiter=',', skiprows=1)"
   ]
  },
  {
   "cell_type": "code",
   "execution_count": 5,
   "metadata": {},
   "outputs": [],
   "source": [
    "# сохраняем разметку в отдельную переменную\n",
    "train_label = train[:, 0]\n",
    "\n",
    "# приводим размерность к удобному для обаботки виду\n",
    "# добавляем размерность канала\n",
    "train_img = np.resize(train[:, 1:], (train.shape[0], 28, 28, 1))\n",
    "test_img = np.resize(test, (test.shape[0], 28, 28, 1))"
   ]
  },
  {
   "cell_type": "markdown",
   "metadata": {},
   "source": [
    "## Визуализируем исходные данные"
   ]
  },
  {
   "cell_type": "code",
   "execution_count": 6,
   "metadata": {},
   "outputs": [
    {
     "data": {
      "image/png": "[encoded data removed]",
      "text/plain": [
       "<Figure size 1440x720 with 5 Axes>"
      ]
     },
     "metadata": {
      "needs_background": "light"
     },
     "output_type": "display_data"
    }
   ],
   "source": [
    "fig = plt.figure(figsize=(20, 10))\n",
    "for i, img in enumerate(train_img[0:5, :], 1):\n",
    "    subplot = fig.add_subplot(1, 7, i)\n",
    "    plt.imshow(img[:,:,0], cmap='gray');\n",
    "    subplot.set_title('%s' % train_label[i - 1]);"
   ]
  },
  {
   "cell_type": "markdown",
   "metadata": {},
   "source": [
    "## Разбиваем выборку на обучение и валидацию"
   ]
  },
  {
   "cell_type": "code",
   "execution_count": 7,
   "metadata": {},
   "outputs": [],
   "source": [
    "from sklearn.model_selection import train_test_split\n",
    "y_train, y_val, x_train, x_val = train_test_split(\n",
    "    train_label, train_img, test_size=0.2, random_state=42)"
   ]
  },
  {
   "cell_type": "markdown",
   "metadata": {},
   "source": [
    "## Собираем сверточную сеть для обучения"
   ]
  },
  {
   "cell_type": "code",
   "execution_count": 8,
   "metadata": {},
   "outputs": [],
   "source": [
    "glorot = keras.initializers.glorot_normal(seed=123455) # генерирует веса из усеченного нормального распределения с центром 0 и stddev = sqrt(2 / (fan_in + fan_out))"
   ]
  },
  {
   "cell_type": "code",
   "execution_count": 9,
   "metadata": {},
   "outputs": [],
   "source": [
    "model = keras.models.Sequential()\n",
    "\n",
    "model.add(keras.layers.Conv2D(6, \n",
    "                              kernel_size=(5, 5), \n",
    "                              padding='same', \n",
    "                              activation='relu', \n",
    "                              input_shape=x_train.shape[1:],\n",
    "                              bias_initializer=glorot,\n",
    "                              kernel_initializer=glorot))\n",
    "\n",
    "model.add(keras.layers.MaxPool2D(pool_size=(2, 2), padding='valid'))\n",
    "\n",
    "\n",
    "model.add(keras.layers.Conv2D(16, \n",
    "                              kernel_size=(5, 5),\n",
    "                              padding='valid',\n",
    "                              activation='relu', \n",
    "                              bias_initializer=glorot,\n",
    "                              kernel_initializer=glorot))\n",
    "\n",
    "model.add(keras.layers.MaxPool2D(pool_size=(2, 2), padding='valid'))\n",
    "\n",
    "model.add(keras.layers.Flatten())\n",
    "\n",
    "model.add(keras.layers.Dense(10, activation='softmax',\n",
    "                             bias_initializer=glorot,\n",
    "                             kernel_initializer=glorot))\n",
    "\n",
    "model.compile(optimizer='adam',\n",
    "              loss='categorical_crossentropy',\n",
    "              metrics=['accuracy'])"
   ]
  },
  {
   "cell_type": "markdown",
   "metadata": {},
   "source": [
    "## Выводим информацию о модели"
   ]
  },
  {
   "cell_type": "code",
   "execution_count": 10,
   "metadata": {},
   "outputs": [
    {
     "name": "stdout",
     "output_type": "stream",
     "text": [
      "Model: \"sequential\"\n",
      "_________________________________________________________________\n",
      "Layer (type)                 Output Shape              Param #   \n",
      "=================================================================\n",
      "conv2d (Conv2D)              (None, 28, 28, 6)         156       \n",
      "_________________________________________________________________\n",
      "max_pooling2d (MaxPooling2D) (None, 14, 14, 6)         0         \n",
      "_________________________________________________________________\n",
      "conv2d_1 (Conv2D)            (None, 10, 10, 16)        2416      \n",
      "_________________________________________________________________\n",
      "max_pooling2d_1 (MaxPooling2 (None, 5, 5, 16)          0         \n",
      "_________________________________________________________________\n",
      "flatten (Flatten)            (None, 400)               0         \n",
      "_________________________________________________________________\n",
      "dense (Dense)                (None, 10)                4010      \n",
      "=================================================================\n",
      "Total params: 6,582\n",
      "Trainable params: 6,582\n",
      "Non-trainable params: 0\n",
      "_________________________________________________________________\n"
     ]
    }
   ],
   "source": [
    "model.summary()"
   ]
  },
  {
   "cell_type": "markdown",
   "metadata": {},
   "source": [
    "## One hot encoding разметки"
   ]
  },
  {
   "cell_type": "code",
   "execution_count": 11,
   "metadata": {},
   "outputs": [],
   "source": [
    "from keras.utils import np_utils\n",
    "y_train_labels = np_utils.to_categorical(y_train)"
   ]
  },
  {
   "cell_type": "markdown",
   "metadata": {},
   "source": [
    "## Запускаем обучение"
   ]
  },
  {
   "cell_type": "code",
   "execution_count": 12,
   "metadata": {},
   "outputs": [
    {
     "name": "stdout",
     "output_type": "stream",
     "text": [
      "Epoch 1/10\n",
      "840/840 [==============================] - 6s 4ms/step - loss: 5.6100 - accuracy: 0.6670 - val_loss: 0.2727 - val_accuracy: 0.9299\n",
      "Epoch 2/10\n",
      "840/840 [==============================] - 3s 4ms/step - loss: 0.2126 - accuracy: 0.9405 - val_loss: 0.1831 - val_accuracy: 0.9530\n",
      "Epoch 3/10\n",
      "840/840 [==============================] - 3s 4ms/step - loss: 0.1226 - accuracy: 0.9628 - val_loss: 0.1265 - val_accuracy: 0.9655\n",
      "Epoch 4/10\n",
      "840/840 [==============================] - 3s 4ms/step - loss: 0.0928 - accuracy: 0.9715 - val_loss: 0.1118 - val_accuracy: 0.9665\n",
      "Epoch 5/10\n",
      "840/840 [==============================] - 3s 4ms/step - loss: 0.0723 - accuracy: 0.9768 - val_loss: 0.1371 - val_accuracy: 0.9628\n",
      "Epoch 6/10\n",
      "840/840 [==============================] - 3s 4ms/step - loss: 0.0698 - accuracy: 0.9774 - val_loss: 0.1146 - val_accuracy: 0.9702\n",
      "Epoch 7/10\n",
      "840/840 [==============================] - 3s 4ms/step - loss: 0.0574 - accuracy: 0.9814 - val_loss: 0.1070 - val_accuracy: 0.9707\n",
      "Epoch 8/10\n",
      "840/840 [==============================] - 3s 4ms/step - loss: 0.0481 - accuracy: 0.9843 - val_loss: 0.1056 - val_accuracy: 0.9732\n",
      "Epoch 9/10\n",
      "840/840 [==============================] - 3s 4ms/step - loss: 0.0472 - accuracy: 0.9841 - val_loss: 0.1014 - val_accuracy: 0.9707\n",
      "Epoch 10/10\n",
      "840/840 [==============================] - 3s 4ms/step - loss: 0.0467 - accuracy: 0.9855 - val_loss: 0.0961 - val_accuracy: 0.9759\n"
     ]
    },
    {
     "data": {
      "text/plain": [
       "<tensorflow.python.keras.callbacks.History at 0x159bb508eb0>"
      ]
     },
     "execution_count": 12,
     "metadata": {},
     "output_type": "execute_result"
    }
   ],
   "source": [
    "model.fit(x_train, y_train_labels,\n",
    "          batch_size=32, \n",
    "          epochs=10,\n",
    "          validation_split=0.2)"
   ]
  },
  {
   "cell_type": "markdown",
   "metadata": {},
   "source": [
    "## Предсказываем класс объекта"
   ]
  },
  {
   "cell_type": "code",
   "execution_count": 13,
   "metadata": {},
   "outputs": [],
   "source": [
    "pred_val = model.predict_classes(x_val)"
   ]
  },
  {
   "cell_type": "markdown",
   "metadata": {},
   "source": [
    "## Оцениваем качество решение на валидационной выборке"
   ]
  },
  {
   "cell_type": "code",
   "execution_count": 14,
   "metadata": {},
   "outputs": [
    {
     "name": "stdout",
     "output_type": "stream",
     "text": [
      "Accuracy: 0.9767857142857143\n"
     ]
    }
   ],
   "source": [
    "from sklearn.metrics import accuracy_score\n",
    "print('Accuracy: %s' % accuracy_score(y_val, pred_val))"
   ]
  },
  {
   "cell_type": "code",
   "execution_count": 15,
   "metadata": {},
   "outputs": [
    {
     "name": "stdout",
     "output_type": "stream",
     "text": [
      "              precision    recall  f1-score   support\n",
      "\n",
      "         0.0       0.99      0.98      0.99       816\n",
      "         1.0       0.99      0.99      0.99       909\n",
      "         2.0       0.98      0.99      0.99       846\n",
      "         3.0       0.97      0.99      0.98       937\n",
      "         4.0       0.97      0.99      0.98       839\n",
      "         5.0       0.99      0.93      0.96       702\n",
      "         6.0       0.97      0.99      0.98       785\n",
      "         7.0       0.99      0.98      0.98       893\n",
      "         8.0       0.94      0.98      0.96       835\n",
      "         9.0       0.99      0.94      0.96       838\n",
      "\n",
      "    accuracy                           0.98      8400\n",
      "   macro avg       0.98      0.98      0.98      8400\n",
      "weighted avg       0.98      0.98      0.98      8400\n",
      "\n"
     ]
    }
   ],
   "source": [
    "from sklearn.metrics import classification_report\n",
    "print(classification_report(y_val, pred_val))"
   ]
  },
  {
   "cell_type": "code",
   "execution_count": 16,
   "metadata": {},
   "outputs": [
    {
     "name": "stdout",
     "output_type": "stream",
     "text": [
      "[[803   0   1   1   0   0   5   0   5   1]\n",
      " [  0 901   1   1   1   0   1   2   2   0]\n",
      " [  0   2 838   1   1   0   0   0   3   1]\n",
      " [  1   0   4 926   0   2   0   1   3   0]\n",
      " [  1   1   0   0 827   0   4   0   2   4]\n",
      " [  1   1   0  18   1 650  12   0  17   2]\n",
      " [  1   1   0   0   0   0 779   0   4   0]\n",
      " [  1   3   3   3   3   0   0 875   3   2]\n",
      " [  1   2   7   3   0   0   0   1 820   1]\n",
      " [  0   3   1   2  20   5   0   9  12 786]]\n"
     ]
    }
   ],
   "source": [
    "from sklearn.metrics import confusion_matrix\n",
    "print(confusion_matrix(y_val, pred_val))"
   ]
  },
  {
   "cell_type": "markdown",
   "metadata": {},
   "source": [
    "## Предсказания на тестовых данных"
   ]
  },
  {
   "cell_type": "code",
   "execution_count": 17,
   "metadata": {},
   "outputs": [],
   "source": [
    "pred_test = model.predict_classes(test_img)"
   ]
  },
  {
   "cell_type": "markdown",
   "metadata": {},
   "source": [
    "## Визуализируем предсказания"
   ]
  },
  {
   "cell_type": "code",
   "execution_count": 18,
   "metadata": {},
   "outputs": [
    {
     "data": {
      "image/png": "[encoded data removed]",
      "text/plain": [
       "<Figure size 1440x720 with 5 Axes>"
      ]
     },
     "metadata": {
      "needs_background": "light"
     },
     "output_type": "display_data"
    }
   ],
   "source": [
    "fig = plt.figure(figsize=(20, 10))\n",
    "for i, img in enumerate(test_img[0:5], 1):\n",
    "    subplot = fig.add_subplot(1, 7, i)\n",
    "    plt.imshow(img[:,:,0], cmap='gray');\n",
    "    subplot.set_title('%s' % pred_test[i - 1]);"
   ]
  },
  {
   "cell_type": "code",
   "execution_count": null,
   "metadata": {},
   "outputs": [],
   "source": []
  }
 ],
 "metadata": {
  "kernelspec": {
   "display_name": "Python 3",
   "language": "python",
   "name": "python3"
  },
  "language_info": {
   "codemirror_mode": {
    "name": "ipython",
    "version": 3
   },
   "file_extension": ".py",
   "mimetype": "text/x-python",
   "name": "python",
   "nbconvert_exporter": "python",
   "pygments_lexer": "ipython3",
   "version": "3.8.6"
  }
 },
 "nbformat": 4,
 "nbformat_minor": 2
}
